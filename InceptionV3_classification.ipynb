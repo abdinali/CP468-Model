{
  "nbformat": 4,
  "nbformat_minor": 0,
  "metadata": {
    "colab": {
      "provenance": []
    },
    "kernelspec": {
      "name": "python3",
      "display_name": "Python 3"
    },
    "language_info": {
      "name": "python"
    }
  },
  "cells": [
    {
      "cell_type": "markdown",
      "source": [
        "This notebook will showcase the development and implementation of a deep learning convolutional neural network to\n",
        "solve a the facial expression classification problem."
      ],
      "metadata": {
        "id": "31CWOCHkO5dt"
      }
    },
    {
      "cell_type": "markdown",
      "source": [
        "# Downloading & Exploring Dataset"
      ],
      "metadata": {
        "id": "_iYV6yUrR6nL"
      }
    },
    {
      "cell_type": "markdown",
      "source": [
        "This model will use a dataset of facial expression images that are for training and validation. There are five subdirectories, each one being linked to a class."
      ],
      "metadata": {
        "id": "0kfOIlZcSEtx"
      }
    },
    {
      "cell_type": "markdown",
      "source": [
        "Here is a breakdown of the facial expressions directory and its subdirectories:\n",
        "\n",
        "```\n",
        "facial_expressions/\n",
        "  train/\n",
        "    suprise/\n",
        "    anger/\n",
        "    happiness/\n",
        "    sadness/\n",
        "    fear/\n",
        "    disgust/\n",
        "  validation/\n",
        "    suprise/\n",
        "    anger/\n",
        "    happiness/\n",
        "    sadness/\n",
        "    fear/\n",
        "    disgust/\n",
        "```"
      ],
      "metadata": {
        "id": "SzbjWYgGSmm1"
      }
    },
    {
      "cell_type": "markdown",
      "source": [
        "Download the data:"
      ],
      "metadata": {
        "id": "zwk_6awOnN6a"
      }
    },
    {
      "cell_type": "code",
      "execution_count": 1,
      "metadata": {
        "id": "kt23ET8ROfzU",
        "colab": {
          "base_uri": "https://localhost:8080/"
        },
        "outputId": "dd991f3c-1968-416e-821d-873c4a7be35a"
      },
      "outputs": [
        {
          "output_type": "stream",
          "name": "stdout",
          "text": [
            "Downloading data from https://storage.googleapis.com/cp468-group-1/facial_expressions_v2.zip\n",
            "\u001b[1m43653920/43653920\u001b[0m \u001b[32m━━━━━━━━━━━━━━━━━━━━\u001b[0m\u001b[37m\u001b[0m \u001b[1m1s\u001b[0m 0us/step\n"
          ]
        }
      ],
      "source": [
        "import tensorflow as tf\n",
        "import pathlib\n",
        "\n",
        "dataset_url = \"https://storage.googleapis.com/cp468-group-1/facial_expressions_v2.zip\"\n",
        "data_dir = tf.keras.utils.get_file(origin=dataset_url, extract=True, archive_format='zip')\n",
        "data_dir = pathlib.Path(data_dir).with_suffix('')\n"
      ]
    },
    {
      "cell_type": "markdown",
      "source": [
        "Explore the data:"
      ],
      "metadata": {
        "id": "03IVz0c-nSws"
      }
    },
    {
      "cell_type": "code",
      "source": [
        "import os\n",
        "import pathlib\n",
        "\n",
        "extracted_dir = pathlib.Path(data_dir).parent / 'facial_expressions'\n",
        "\n",
        "training_dir = extracted_dir / 'train'\n",
        "training_surprise_dir = training_dir / 'surprise'\n",
        "training_anger_dir = training_dir / 'anger'\n",
        "training_happiness_dir = training_dir / 'happiness'\n",
        "training_fear_dir = training_dir / 'fear'\n",
        "training_disgust_dir = training_dir / 'disgust'\n",
        "training_neutral_dir = training_dir / 'neutral'\n",
        "\n",
        "validation_dir = extracted_dir / 'validation'\n",
        "validation_surprise_dir = validation_dir / 'surprise'\n",
        "validation_anger_dir = validation_dir / 'anger'\n",
        "validation_happiness_dir = validation_dir / 'happiness'\n",
        "validation_fear_dir = validation_dir / 'fear'\n",
        "validation_disgust_dir = validation_dir / 'disgust'\n",
        "validation_neutral_dir = validation_dir / 'neutral'\n",
        "\n",
        "# Count images function\n",
        "def count_images(directory):\n",
        "  image_count = len(list(directory.glob('*.jpg')))\n",
        "  return image_count\n",
        "\n",
        "# print(f\"Training Dataset Image Count: {count_images(training_dir)}\")\n",
        "print(f\"Training / Surprise: {count_images(training_surprise_dir)}\")\n",
        "print(f\"Training / Anger: {count_images(training_anger_dir)}\")\n",
        "print(f\"Training / Happiness: {count_images(training_happiness_dir)}\") # - 6k\n",
        "print(f\"Training / Fear: {count_images(training_fear_dir)}\")\n",
        "print(f\"Training / Disgust: {count_images(training_disgust_dir)}\")\n",
        "print(f\"Training / Neutral: {count_images(training_neutral_dir)}\")\n",
        "\n",
        "# print(f\"Validation Dataset Image Count: {count_images(validation_dir)}\")\n",
        "print(f\"validation / Surprise: {count_images(validation_surprise_dir)}\")\n",
        "print(f\"validation / Anger: {count_images(validation_anger_dir)}\")\n",
        "print(f\"validation / Happiness: {count_images(validation_happiness_dir)}\")\n",
        "print(f\"validation / Fear: {count_images(validation_fear_dir)}\")\n",
        "print(f\"validation / Disgust: {count_images(validation_disgust_dir)}\")\n",
        "print(f\"validation / Neutral: {count_images(validation_neutral_dir)}\")"
      ],
      "metadata": {
        "id": "c0OpoXeYnXB0",
        "colab": {
          "base_uri": "https://localhost:8080/"
        },
        "outputId": "ab824ea9-2afa-40e0-c353-eff0f46f9faa"
      },
      "execution_count": 2,
      "outputs": [
        {
          "output_type": "stream",
          "name": "stdout",
          "text": [
            "Training / Surprise: 831\n",
            "Training / Anger: 1225\n",
            "Training / Happiness: 847\n",
            "Training / Fear: 1657\n",
            "Training / Disgust: 436\n",
            "Training / Neutral: 2112\n",
            "validation / Surprise: 1246\n",
            "validation / Anger: 958\n",
            "validation / Happiness: 1774\n",
            "validation / Fear: 1024\n",
            "validation / Disgust: 111\n",
            "validation / Neutral: 1233\n"
          ]
        }
      ]
    },
    {
      "cell_type": "markdown",
      "source": [
        "# Normalizing Data  "
      ],
      "metadata": {
        "id": "Wq_PZQhBki5v"
      }
    },
    {
      "cell_type": "code",
      "source": [
        "from tensorflow.keras.preprocessing.image import ImageDataGenerator\n",
        "import os\n",
        "\n",
        "# Data augmentation and normalization for training\n",
        "train_datagen = ImageDataGenerator(\n",
        "    rescale=1./255,\n",
        "    rotation_range=40,\n",
        "    width_shift_range=0.2,\n",
        "    height_shift_range=0.2,\n",
        "    shear_range=0.2,\n",
        "    zoom_range=0.2,\n",
        "    horizontal_flip=True,\n",
        "    fill_mode='nearest'\n",
        ")\n",
        "\n",
        "# Only rescale for validation\n",
        "validation_datagen = ImageDataGenerator(rescale=1./255)\n",
        "\n",
        "# Use the extracted_dir variable which points to the correct directory\n",
        "train_generator = train_datagen.flow_from_directory(\n",
        "    os.path.join(extracted_dir, 'train'), # Change data_dir to extracted_dir\n",
        "    target_size=(299, 299),\n",
        "    batch_size=64,\n",
        "    class_mode='categorical'\n",
        ")\n",
        "\n",
        "validation_generator = validation_datagen.flow_from_directory(\n",
        "    os.path.join(extracted_dir, 'validation'), # Change data_dir to extracted_dir\n",
        "    target_size=(299, 299),\n",
        "    batch_size=64,\n",
        "    class_mode='categorical'\n",
        ")"
      ],
      "metadata": {
        "id": "3YDPkX3YkmzK",
        "colab": {
          "base_uri": "https://localhost:8080/"
        },
        "outputId": "756fdf96-7256-4a34-b857-7ef9ce3144da"
      },
      "execution_count": 10,
      "outputs": [
        {
          "output_type": "stream",
          "name": "stdout",
          "text": [
            "Found 11938 images belonging to 7 classes.\n",
            "Found 7593 images belonging to 7 classes.\n"
          ]
        }
      ]
    },
    {
      "cell_type": "markdown",
      "source": [
        "# Setting up the pre-trained model (Inception V3)"
      ],
      "metadata": {
        "id": "x-cw43ALl5nh"
      }
    },
    {
      "cell_type": "code",
      "source": [
        "from tensorflow.keras.applications import InceptionV3\n",
        "from tensorflow.keras import layers, models\n",
        "\n",
        "# Load the pre-trained VGG16 model\n",
        "base_model = InceptionV3(input_shape=(299, 299, 3), include_top=False, weights='imagenet')\n",
        "\n",
        "# Freeze the pre-trained layers\n",
        "base_model.trainable = False"
      ],
      "metadata": {
        "id": "WvX4uxSCmApS"
      },
      "execution_count": 11,
      "outputs": []
    },
    {
      "cell_type": "markdown",
      "source": [
        "Creating the training datasets:"
      ],
      "metadata": {
        "id": "40iVrRnkphMU"
      }
    },
    {
      "cell_type": "code",
      "source": [
        "train_ds = tf.keras.utils.image_dataset_from_directory(\n",
        "    training_dir,\n",
        "    validation_split=0.2,\n",
        "    subset=\"training\",\n",
        "    seed=123,\n",
        "    image_size=(299, 299),\n",
        "    batch_size=64\n",
        ")\n",
        "\n",
        "validation_ds = tf.keras.utils.image_dataset_from_directory(\n",
        "    training_dir,\n",
        "    validation_split=0.2,\n",
        "    subset=\"validation\",\n",
        "    seed=123,\n",
        "    image_size=(299, 299),\n",
        "    batch_size=64\n",
        ")\n",
        "\n",
        "class_names = train_ds.class_names\n",
        "print(class_names)\n",
        "\n",
        "# Check the number of classes in your dataset\n",
        "num_classes = len(class_names)\n",
        "print(\"Number of classes:\", num_classes)"
      ],
      "metadata": {
        "colab": {
          "base_uri": "https://localhost:8080/"
        },
        "id": "_EHYX8KLpmEM",
        "outputId": "5500ca5b-1918-4994-dbe4-777ead9fcbfd"
      },
      "execution_count": 12,
      "outputs": [
        {
          "output_type": "stream",
          "name": "stdout",
          "text": [
            "Found 11938 files belonging to 7 classes.\n",
            "Using 9551 files for training.\n",
            "Found 11938 files belonging to 7 classes.\n",
            "Using 2387 files for validation.\n",
            "['anger', 'disgust', 'fear', 'happiness', 'neutral', 'sadness', 'surprise']\n",
            "Number of classes: 7\n"
          ]
        }
      ]
    },
    {
      "cell_type": "markdown",
      "source": [
        "Adding custom layers to the model:"
      ],
      "metadata": {
        "id": "K5shw5n4nDs6"
      }
    },
    {
      "cell_type": "code",
      "source": [
        "# Add custom layers on top of the base model\n",
        "x = base_model.output\n",
        "x = layers.GlobalAveragePooling2D()(x)\n",
        "x = layers.Dense(1024, activation='relu')(x)\n",
        "predictions = layers.Dense(num_classes, activation='softmax')(x)\n",
        "\n",
        "# Create the final model, and modify the final layer of your model to match the number of classes\n",
        "model = models.Model(inputs=base_model.input, outputs=layers.Dense(num_classes, activation='softmax')(x))"
      ],
      "metadata": {
        "id": "jl9sPfBUnHPh"
      },
      "execution_count": 13,
      "outputs": []
    },
    {
      "cell_type": "markdown",
      "source": [
        "Compile the model:"
      ],
      "metadata": {
        "id": "gX2fedGCnjSx"
      }
    },
    {
      "cell_type": "code",
      "source": [
        "model.compile(optimizer='adam',\n",
        "              loss='categorical_crossentropy',\n",
        "              metrics=['accuracy'])"
      ],
      "metadata": {
        "id": "H6-AAskOnnL9"
      },
      "execution_count": 14,
      "outputs": []
    },
    {
      "cell_type": "markdown",
      "source": [
        "Train the model:"
      ],
      "metadata": {
        "id": "Y1RAJQv-rJE5"
      }
    },
    {
      "cell_type": "code",
      "source": [
        "history = model.fit(\n",
        "    train_generator,\n",
        "    epochs=3,\n",
        "    validation_data=validation_generator\n",
        ")"
      ],
      "metadata": {
        "colab": {
          "base_uri": "https://localhost:8080/"
        },
        "id": "4x5ExZeYrKqN",
        "outputId": "fe61f779-8ed4-4f8e-cf2b-8cffb409242c"
      },
      "execution_count": null,
      "outputs": [
        {
          "output_type": "stream",
          "name": "stdout",
          "text": [
            "Epoch 1/3\n"
          ]
        }
      ]
    }
  ]
}